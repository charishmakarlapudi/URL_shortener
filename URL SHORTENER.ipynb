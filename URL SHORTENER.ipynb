{
 "cells": [
  {
   "cell_type": "code",
   "execution_count": 1,
   "id": "2a3ac05a",
   "metadata": {},
   "outputs": [
    {
     "name": "stdout",
     "output_type": "stream",
     "text": [
      "Enter the long URL: https://www.youtube.com/watch?v=a-hFbr-4VQQ\n",
      "Enter a custom name (optional): \n",
      "Shortened URL: https://cutt.ly/kwkzCmOV\n"
     ]
    }
   ],
   "source": [
    "## URL shortener\n",
    "import requests\n",
    "\n",
    "def shorten_url(api_key, long_url, custom_name):\n",
    "    base_url = \"https://cutt.ly/api/api.php\"\n",
    "    \n",
    "    params = {\n",
    "        \"key\": api_key,\n",
    "        \"short\": long_url,\n",
    "    }\n",
    "    \n",
    "    if custom_name:\n",
    "        params[\"name\"] = custom_name\n",
    "    \n",
    "    response = requests.get(base_url, params=params).json()\n",
    "    \n",
    "    shortened_url = response[\"url\"][\"shortLink\"]\n",
    "    return shortened_url\n",
    "\n",
    "def main():\n",
    "    api_key = \"f5a49894fc654968b74b10019e1929a842b9d\"\n",
    "    long_url = input('Enter the long URL: ')\n",
    "    custom_name = input('Enter a custom name (optional): ')\n",
    "    shortened_url = shorten_url(api_key, long_url, custom_name)\n",
    "    print(\"Shortened URL:\", shortened_url)\n",
    "\n",
    "if __name__ == \"__main__\":\n",
    "    main()\n"
   ]
  }
 ],
 "metadata": {
  "kernelspec": {
   "display_name": "Python 3 (ipykernel)",
   "language": "python",
   "name": "python3"
  },
  "language_info": {
   "codemirror_mode": {
    "name": "ipython",
    "version": 3
   },
   "file_extension": ".py",
   "mimetype": "text/x-python",
   "name": "python",
   "nbconvert_exporter": "python",
   "pygments_lexer": "ipython3",
   "version": "3.9.12"
  }
 },
 "nbformat": 4,
 "nbformat_minor": 5
}
